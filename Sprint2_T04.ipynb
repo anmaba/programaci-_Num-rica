{
 "cells": [
  {
   "cell_type": "markdown",
   "id": "cd41a30f",
   "metadata": {},
   "source": [
    "# Pràctica amb programació numèrica\n",
    "\n",
    "Descripció:\n",
    "- Familiaritza't amb la Programació Numèrica a través de la llibreria NumPy."
   ]
  },
  {
   "cell_type": "markdown",
   "id": "b51ec091",
   "metadata": {},
   "source": [
    "## NIVELL 1\n",
    "### Exercici 1\n",
    "Crea una funció que donat un Array d’una dimensió, et faci un resum estadístic bàsic de les dades. Si detecta que l’array té més d’una dimensió, ha de mostrar un missatge d’error.\n"
   ]
  },
  {
   "cell_type": "code",
   "execution_count": 18,
   "id": "22b2be28",
   "metadata": {
    "ExecuteTime": {
     "end_time": "2022-04-07T12:28:38.301643Z",
     "start_time": "2022-04-07T12:28:38.278658Z"
    }
   },
   "outputs": [
    {
     "name": "stdout",
     "output_type": "stream",
     "text": [
      "[71 89 19 30 73 18 74 32 47  0  4 87 25 80 62 96  1 74 24 25]\n",
      "1\n",
      "El número més petit de la matriu és el 0\n",
      "El número més gran de la matriu és el 96\n",
      "La suma acumulativa de tots els elements dóna [ 71 160 179 209 282 300 374 406 453 453 457 544 569 649 711 807 808 882\n",
      " 906 931]\n",
      "La mitjana és 46.55\n",
      "La mediana és 39.5\n",
      "El coeficient de correlació és 1.0\n",
      "La desviació estàndar és 31.30091851687423\n"
     ]
    }
   ],
   "source": [
    "import numpy as np\n",
    "\n",
    "array1 = np.random.randint(100, size=(20))\n",
    "#array1 = np.random.randint(100, size=(20,20))  #activar aquesta línia i desactivar l'anterior per veure que el missatge d'error funciona\n",
    "\n",
    "print(array1)\n",
    "print(array1.ndim)\n",
    "\n",
    "if array1.ndim >= 2:\n",
    "    print(\"L'array d'aquest exercici ha de ser de ser d'una dimensió\")\n",
    "else:\n",
    "    print(\"El número més petit de la matriu és el\", array1.min())\n",
    "    print(\"El número més gran de la matriu és el\", array1.max())\n",
    "    print(\"La suma acumulativa de tots els elements dóna\", array1.cumsum())\n",
    "    print(\"La mitjana és\", array1.mean())\n",
    "    print(\"La mediana és\", np.median(array1))\n",
    "    print(\"El coeficient de correlació és\", np.corrcoef(array1))\n",
    "    print(\"La desviació estàndar és\", np.std(array1))\n",
    "\n"
   ]
  },
  {
   "cell_type": "markdown",
   "id": "75392c69",
   "metadata": {},
   "source": [
    "### Exercici 2\n",
    "Crea una funció que et generi un quadrat NxN de nombres aleatoris entre el 0 i el 100.\n"
   ]
  },
  {
   "cell_type": "code",
   "execution_count": 53,
   "id": "1c8a9229",
   "metadata": {
    "ExecuteTime": {
     "end_time": "2022-04-07T14:02:45.888946Z",
     "start_time": "2022-04-07T14:02:44.415455Z"
    }
   },
   "outputs": [
    {
     "name": "stdout",
     "output_type": "stream",
     "text": [
      "Tria un número enter positiu\n",
      "10\n",
      "[[49 39 92 66 66 18  5 45 12 10]\n",
      " [31 39 17 14  0  2 78 13 57 92]\n",
      " [36 50 83 63 17 76 70 57 72 39]\n",
      " [24 40 94 38 12 75 73 26 39 95]\n",
      " [75 47 98 56 55 59 74 97  3 59]\n",
      " [86 88 47 86 83 22 55 42 94 41]\n",
      " [64 85 40 33 90  2 66 74  9 99]\n",
      " [15 28 62 64 11 70 74 25 45 14]\n",
      " [27 65 14 31 22  9 91 84 83 21]\n",
      " [93 30  7  0 50 34 31 51 11 31]]\n"
     ]
    }
   ],
   "source": [
    "n=0\n",
    "m=0\n",
    "contador=0\n",
    "\n",
    "while contador >= 0:\n",
    "    if n <=0:\n",
    "        print(\"Tria un número enter positiu\")  \n",
    "        n = int(input())\n",
    "        m = n\n",
    "        contador += contador\n",
    "    else:\n",
    "        quadrat = np.random.randint(100, size=(n,m))\n",
    "        break\n",
    "print(quadrat)\n"
   ]
  },
  {
   "cell_type": "markdown",
   "id": "a2c64dcb",
   "metadata": {},
   "source": [
    "\n",
    "### Exercici 3\n",
    "Crea una funció que donada una taula de dues dimensions, et calculi els totals per fila i els totals per columna.\n"
   ]
  },
  {
   "cell_type": "code",
   "execution_count": 57,
   "id": "60928591",
   "metadata": {
    "ExecuteTime": {
     "end_time": "2022-04-07T14:11:44.825013Z",
     "start_time": "2022-04-07T14:11:38.387533Z"
    }
   },
   "outputs": [
    {
     "name": "stdout",
     "output_type": "stream",
     "text": [
      "Tria un número enter positiu per l'eix de les files\n",
      "4\n",
      "Tria un número enter positiu per l'eix de les columnes\n",
      "2\n",
      "[[83 65]\n",
      " [32 75]\n",
      " [18 36]\n",
      " [40 13]]\n",
      "Suma de les columnes [173 189]\n",
      "Suma de les files [148 107  54  53]\n"
     ]
    }
   ],
   "source": [
    "n=0\n",
    "m=0\n",
    "contador=0\n",
    "\n",
    "while contador >= 0:\n",
    "    if n <=0 or m<=0:\n",
    "        print(\"Tria un número enter positiu per l'eix de les files\")  \n",
    "        n = int(input())\n",
    "        print(\"Tria un número enter positiu per l'eix de les columnes\") \n",
    "        m = int(input())\n",
    "        contador += contador\n",
    "    else:\n",
    "        quadrat = np.random.randint(100, size=(n,m))\n",
    "        break\n",
    "print(quadrat)\n",
    "\n",
    "print(\"Suma de les columnes\", quadrat.sum(axis=0))     # suma total per columna\n",
    "print(\"Suma de les files\", quadrat.sum(axis=1))    # suma total per fila"
   ]
  },
  {
   "cell_type": "markdown",
   "id": "8a0aa90c",
   "metadata": {},
   "source": [
    "### Exercici 4\n",
    "Implementa manualment una funció que calculi el coeficient de correlació. Informa’t-en sobre els seus usos i interpretació."
   ]
  },
  {
   "cell_type": "code",
   "execution_count": null,
   "id": "d03c8d4f",
   "metadata": {},
   "outputs": [],
   "source": [
    "# https://stackabuse.com/calculating-pearson-correlation-coefficient-in-python-with-numpy/\n",
    "\n",
    "# https://machinelearningmastery.com/how-to-use-correlation-to-understand-the-relationship-between-variables/"
   ]
  },
  {
   "cell_type": "code",
   "execution_count": null,
   "id": "9508f3b3",
   "metadata": {},
   "outputs": [],
   "source": []
  },
  {
   "cell_type": "code",
   "execution_count": null,
   "id": "474dc2bc",
   "metadata": {},
   "outputs": [],
   "source": []
  },
  {
   "cell_type": "code",
   "execution_count": null,
   "id": "2c9f21a5",
   "metadata": {},
   "outputs": [],
   "source": []
  }
 ],
 "metadata": {
  "hide_input": false,
  "kernelspec": {
   "display_name": "Python 3 (ipykernel)",
   "language": "python",
   "name": "python3"
  },
  "language_info": {
   "codemirror_mode": {
    "name": "ipython",
    "version": 3
   },
   "file_extension": ".py",
   "mimetype": "text/x-python",
   "name": "python",
   "nbconvert_exporter": "python",
   "pygments_lexer": "ipython3",
   "version": "3.9.7"
  },
  "latex_envs": {
   "LaTeX_envs_menu_present": true,
   "autoclose": false,
   "autocomplete": true,
   "bibliofile": "biblio.bib",
   "cite_by": "apalike",
   "current_citInitial": 1,
   "eqLabelWithNumbers": true,
   "eqNumInitial": 1,
   "hotkeys": {
    "equation": "Ctrl-E",
    "itemize": "Ctrl-I"
   },
   "labels_anchors": false,
   "latex_user_defs": false,
   "report_style_numbering": false,
   "user_envs_cfg": false
  },
  "toc": {
   "base_numbering": 1,
   "nav_menu": {},
   "number_sections": true,
   "sideBar": true,
   "skip_h1_title": false,
   "title_cell": "Table of Contents",
   "title_sidebar": "Contents",
   "toc_cell": false,
   "toc_position": {},
   "toc_section_display": true,
   "toc_window_display": false
  },
  "varInspector": {
   "cols": {
    "lenName": 16,
    "lenType": 16,
    "lenVar": 40
   },
   "kernels_config": {
    "python": {
     "delete_cmd_postfix": "",
     "delete_cmd_prefix": "del ",
     "library": "var_list.py",
     "varRefreshCmd": "print(var_dic_list())"
    },
    "r": {
     "delete_cmd_postfix": ") ",
     "delete_cmd_prefix": "rm(",
     "library": "var_list.r",
     "varRefreshCmd": "cat(var_dic_list()) "
    }
   },
   "types_to_exclude": [
    "module",
    "function",
    "builtin_function_or_method",
    "instance",
    "_Feature"
   ],
   "window_display": false
  }
 },
 "nbformat": 4,
 "nbformat_minor": 5
}
